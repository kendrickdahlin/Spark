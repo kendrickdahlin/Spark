{
 "cells": [
  {
   "cell_type": "code",
   "execution_count": 17,
   "id": "2d1761ca",
   "metadata": {},
   "outputs": [
    {
     "name": "stderr",
     "output_type": "stream",
     "text": [
      "                                                                                \r"
     ]
    },
    {
     "name": "stdout",
     "output_type": "stream",
     "text": [
      "Center of class B: [65.61032724 71.33406146]\n"
     ]
    },
    {
     "name": "stderr",
     "output_type": "stream",
     "text": [
      "                                                                                \r"
     ]
    },
    {
     "name": "stdout",
     "output_type": "stream",
     "text": [
      "Center of class D: [26.2964077  67.17430303]\n"
     ]
    },
    {
     "name": "stderr",
     "output_type": "stream",
     "text": [
      "                                                                                \r"
     ]
    },
    {
     "name": "stdout",
     "output_type": "stream",
     "text": [
      "Center of class C: [16.0534459 28.6632531]\n"
     ]
    },
    {
     "name": "stderr",
     "output_type": "stream",
     "text": [
      "                                                                                \r"
     ]
    },
    {
     "name": "stdout",
     "output_type": "stream",
     "text": [
      "Center of class A: [72.45771449707767, 17.258200356575614]\n",
      "Accuracy:  0.877\n"
     ]
    }
   ],
   "source": [
    "import numpy as np\n",
    "import pandas as pd\n",
    "from pyspark.sql import SparkSession\n",
    "\n",
    "##SPLITS PARTICLES INTO PARTITIONS\n",
    "class FireflyAlgorithm:\n",
    "    def __init__(self, n_fireflies=56, max_iter=20, alpha=0.3, beta0=1, gamma=0.04):\n",
    "        self.n_fireflies = n_fireflies\n",
    "        self.max_iter = max_iter\n",
    "        self.alpha = alpha\n",
    "        self.beta0 = beta0\n",
    "        self.gamma = gamma\n",
    "        self.lb = 0 \n",
    "        self.ub = 100\n",
    "        self.centroids = {}\n",
    "        self.points = []\n",
    "        self.global_best = \"\"\n",
    "\n",
    "    def objective_function(self, x):\n",
    "        return np.sum(np.linalg.norm(self.points-x, axis = 1))\n",
    "\n",
    "    def find_center(self, fireflies):\n",
    "        #initialize fireflies\n",
    "        fireflies = list(map(lambda firefly: list(firefly), fireflies))\n",
    "        n_fireflies = len(fireflies)\n",
    "        for i in range (n_fireflies):\n",
    "            print (f\"Firefly {i} at: {fireflies[i]}\")\n",
    "        dim = len(fireflies[0])\n",
    "        \n",
    "        fitness = np.apply_along_axis(self.objective_function, 1, fireflies)\n",
    "        \n",
    "        \n",
    "        #set arbitrary global best\n",
    "        best_firefly = fireflies[0]\n",
    "        best_fitness = fitness[0]\n",
    "        \n",
    "        for k in range(self.max_iter):\n",
    "            k_alpha = self.alpha * (1-k/self.max_iter) # decreases alpha over time\n",
    "           \n",
    "            for i in range(n_fireflies):\n",
    "                for j in range(n_fireflies):\n",
    "                    ##Here check broadcast variable\n",
    "                    if fitness[j] < fitness[i]:\n",
    "                        #move firefly\n",
    "                        r = np.linalg.norm(np.subtract(fireflies[i], fireflies[j])) #distance\n",
    "                        beta = self.beta0 * np.exp(-self.gamma * r**2) #attractiveness\n",
    "                        random_factor = k_alpha * (np.random.rand(dim) - 0.5) #randomness\n",
    "                        #moves firefly based on equation \n",
    "                        fireflies[i] += beta * (np.subtract(fireflies[j],fireflies[i])) + random_factor\n",
    "                        fireflies[i] = np.clip(fireflies[i], self.lb, self.ub) # keeps new loc within range\n",
    "\n",
    "                        #update fitness\n",
    "                        fitness[i] = self.objective_function(fireflies[i])\n",
    "                        #update new best\n",
    "                    \n",
    "                        if fitness[i] < best_fitness:\n",
    "                            #update global best\n",
    "                            best_firefly = fireflies[i]\n",
    "                            best_fitness = fitness[i]\n",
    "        return best_firefly, best_fitness\n",
    "\n",
    "    #returns string of classification\n",
    "    def classify(self, row):\n",
    "        distances = {}\n",
    "        for key, points in self.centroids.items():\n",
    "            coord = np.array(row)\n",
    "            distances[key]= np.linalg.norm(points-coord)\n",
    "        cls = min(distances, key = distances.get)\n",
    "        return cls\n",
    "    \n",
    "\n",
    "    def run(self, file_name):\n",
    "        # Create a SparkSession\n",
    "        spark = SparkSession.builder \\\n",
    "            .appName(\"Firefly Algorithm with Spark\") \\\n",
    "            .getOrCreate()\n",
    "\n",
    "        sc = spark.sparkContext\n",
    "        num_cores = sc.defaultParallelism  #Determine the number of available cores\n",
    "        self.n_fireflies = max(self.n_fireflies, num_cores) \n",
    "        \n",
    "\n",
    "        # Read the dataset from CSV file into a Spark DataFrame\n",
    "        df = spark.read.csv(file_name, header=True, inferSchema=True)\n",
    "        dim = len(df.columns)-1\n",
    "        \n",
    "        #split into training and test data\n",
    "        train, test = df.randomSplit([0.8, 0.2], seed=12345)\n",
    "\n",
    "        #initialize fireflies\n",
    "        fireflies = np.random.uniform(self.lb, self.ub, (self.n_fireflies, dim))\n",
    "        fireflies_rdd = sc.parallelize(fireflies, numSlices=num_cores)\n",
    "        class_column = train.columns[-1]\n",
    "        classes = train.select(class_column).distinct().collect()\n",
    "        \n",
    "        \n",
    "        for cls in classes:\n",
    "            cls = cls[class_column]\n",
    "            data = train.filter(df[class_column] == cls).drop(class_column).collect()\n",
    "            \n",
    "            points = []\n",
    "            for row in data:\n",
    "                points.append(list(row))\n",
    "            self.points = points\n",
    "            center = fireflies_rdd.mapPartitions(lambda fireflies: [self.find_center(fireflies)]).collect()\n",
    "            #clean appearance\n",
    "            center = list(map(lambda point: list(point), center))\n",
    "            \n",
    "            #TODO replace code with collect?\n",
    "            best_centroid = center[0][0]\n",
    "            best_fitness = center[0][1]\n",
    "            \n",
    "            for centroid, fitness in center:\n",
    "                if fitness < best_fitness:\n",
    "                    best_fitness = fitness\n",
    "                    best_centroid = centroid\n",
    "            self.centroids[cls] = best_centroid\n",
    "            print (f\"Center of class {cls}: {best_centroid}\")\n",
    "    \n",
    "        #test\n",
    "        accuracy = 0\n",
    "        count = 0\n",
    "        for row in test.collect():\n",
    "            row = list(row)\n",
    "            cls = self.classify(row[:-1])\n",
    "            if cls == row[-1]:\n",
    "                accuracy +=1\n",
    "            count +=1\n",
    "        print(\"\")\n",
    "        print(\"Accuracy: \", accuracy/count)\n",
    "        print(\"\")\n",
    "        # Stop the SparkSession\n",
    "        spark.stop()\n",
    "\n",
    "if __name__ == \"__main__\":\n",
    "    fa = FireflyAlgorithm()\n",
    "    fa.run(\"4Cluster2D.csv\")"
   ]
  },
  {
   "cell_type": "code",
   "execution_count": null,
   "id": "e3b845a6",
   "metadata": {},
   "outputs": [],
   "source": []
  }
 ],
 "metadata": {
  "kernelspec": {
   "display_name": "Python 3 (ipykernel)",
   "language": "python",
   "name": "python3"
  },
  "language_info": {
   "codemirror_mode": {
    "name": "ipython",
    "version": 3
   },
   "file_extension": ".py",
   "mimetype": "text/x-python",
   "name": "python",
   "nbconvert_exporter": "python",
   "pygments_lexer": "ipython3",
   "version": "3.10.9"
  }
 },
 "nbformat": 4,
 "nbformat_minor": 5
}
